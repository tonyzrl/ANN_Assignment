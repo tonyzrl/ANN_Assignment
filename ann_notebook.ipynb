{
  "nbformat": 4,
  "nbformat_minor": 0,
  "metadata": {
    "colab": {
      "provenance": [],
      "gpuType": "T4",
      "mount_file_id": "1XHEo6ggKmUKrGsiFhSNbWPnIO5ywZueb",
      "authorship_tag": "ABX9TyM5HfvzDUsicrpJ4jbWonp/"
    },
    "kernelspec": {
      "name": "python3",
      "display_name": "Python 3"
    },
    "language_info": {
      "name": "python"
    },
    "accelerator": "GPU"
  },
  "cells": [
    {
      "cell_type": "markdown",
      "source": [
        "# Assignment 3: Predicting Mapping Penalties with ANN\n",
        "*Due: June 5, 2025, 11:59 PM*  \n",
        "\n",
        "In this assignment, a feed-forward artificial neural network (ANN) is implemented from scratch to predict the penalty score of a mapping between tasks and employees.\n",
        "\n",
        "In this notebook we will:\n",
        "1. Generate or load the 100 mappings dataset  \n",
        "2. Preprocess & encode into 110-dim vectors  \n",
        "3. Define two ANN architectures (Model A & Model B)  \n",
        "4. Implement forward, backward, updates by hand  \n",
        "5. Train via mini-batch SGD over grid of hyperparameters  \n",
        "6. Produce the eight required comparison plots  \n",
        "7. Export results for report submission  \n",
        "\n"
      ],
      "metadata": {
        "id": "J4kSpcuHFsO_"
      }
    },
    {
      "cell_type": "markdown",
      "source": [
        "## Assignment Imports"
      ],
      "metadata": {
        "id": "jL-LqT6-jIt_"
      }
    },
    {
      "cell_type": "code",
      "source": [
        "import numpy as np\n",
        "import pandas as pd\n",
        "import matplotlib . pyplot as plt\n",
        "import time\n",
        "\n",
        "!git clone https://github.com/tonyzrl/ANN_Assignment\n",
        "\n",
        "# Task data: ID, Estimated Time, Difficulty, Deadline, Skill Required\n",
        "tasks = [{\"id\": \"T1\", \"estimated_time\": 4, \"difficulty\": 3, \"deadline\": 8, \"skill_required\": \"A\"},\n",
        "        {\"id\": \"T2\", \"estimated_time\": 6, \"difficulty\": 5, \"deadline\": 12, \"skill_required\": \"B\"},\n",
        "        {\"id\": \"T3\", \"estimated_time\": 2, \"difficulty\": 2, \"deadline\": 6, \"skill_required\": \"A\"},\n",
        "        {\"id\": \"T4\", \"estimated_time\": 5, \"difficulty\": 4, \"deadline\": 10, \"skill_required\": \"C\"},\n",
        "        {\"id\": \"T5\", \"estimated_time\": 3, \"difficulty\": 1, \"deadline\": 7, \"skill_required\": \"A\"},\n",
        "        {\"id\": \"T6\", \"estimated_time\": 8, \"difficulty\": 6, \"deadline\": 15, \"skill_required\": \"B\"},\n",
        "        {\"id\": \"T7\", \"estimated_time\": 4, \"difficulty\": 3, \"deadline\": 9, \"skill_required\": \"C\"},\n",
        "        {\"id\": \"T8\", \"estimated_time\": 7, \"difficulty\": 5, \"deadline\": 14, \"skill_required\": \"B\"},\n",
        "        {\"id\": \"T9\", \"estimated_time\": 2, \"difficulty\": 2, \"deadline\": 5, \"skill_required\": \"A\"},\n",
        "        {\"id\": \"T10\", \"estimated_time\": 6, \"difficulty\": 4, \"deadline\": 11, \"skill_required\": \"C\"},]\n",
        "\n",
        "# Employee data: ID, Available hours, Skill level, Skills\n",
        "employees = [{\"id\": \"E1\", \"hours_avail\": 10, \"skill_level\": 4, \"skills\": [\"A\", \"C\"]},\n",
        "            {\"id\": \"E2\", \"hours_avail\": 12, \"skill_level\": 6, \"skills\": [\"A\", \"B\", \"C\"]},\n",
        "            {\"id\": \"E3\", \"hours_avail\": 8, \"skill_level\": 3, \"skills\": [\"A\"]},\n",
        "            {\"id\": \"E4\", \"hours_avail\": 15, \"skill_level\": 7, \"skills\": [\"B\", \"C\"]},\n",
        "            {\"id\": \"E5\", \"hours_avail\": 9, \"skill_level\": 5, \"skills\": [\"A\", \"C\"]}]"
      ],
      "metadata": {
        "colab": {
          "base_uri": "https://localhost:8080/"
        },
        "id": "P8Q4Pi2MTDB_",
        "outputId": "779e6f6e-1f58-464d-f1d7-2165ae75e250"
      },
      "execution_count": 1,
      "outputs": [
        {
          "output_type": "stream",
          "name": "stdout",
          "text": [
            "Cloning into 'ANN_Assignment'...\n",
            "remote: Enumerating objects: 30, done.\u001b[K\n",
            "remote: Counting objects: 100% (30/30), done.\u001b[K\n",
            "remote: Compressing objects: 100% (26/26), done.\u001b[K\n",
            "remote: Total 30 (delta 5), reused 25 (delta 3), pack-reused 0 (from 0)\u001b[K\n",
            "Receiving objects: 100% (30/30), 12.04 KiB | 12.04 MiB/s, done.\n",
            "Resolving deltas: 100% (5/5), done.\n"
          ]
        }
      ]
    },
    {
      "cell_type": "markdown",
      "source": [
        "## Data Generation and Loading"
      ],
      "metadata": {
        "id": "Zh32dB9-jXV7"
      }
    },
    {
      "cell_type": "code",
      "source": [
        "df = pd.read_csv('/content/ANN_Assignment/data/task_assignment_data.csv')"
      ],
      "metadata": {
        "id": "Y_ApwmQqjoVJ"
      },
      "execution_count": 5,
      "outputs": []
    },
    {
      "cell_type": "markdown",
      "source": [
        "## Data Preprocessing"
      ],
      "metadata": {
        "id": "2gFkyybTjx8R"
      }
    },
    {
      "cell_type": "code",
      "source": [
        "def one_hot_encode(skill_str):\n",
        "    \"\"\"\n",
        "    Given a string of skills like 'A', 'B,C', returns a length-3 one-hot:\n",
        "      'A'   → [1,0,0]\n",
        "      'B,C' → [0,1,1]\n",
        "    \"\"\"\n",
        "    mapping = {'A':0, 'B':1, 'C':2}\n",
        "    vec = np.zeros(3, dtype=int)\n",
        "    for s in skill_str.split(','):\n",
        "        vec[mapping[s]] = 1\n",
        "    return vec\n",
        "\n",
        "def construct_input_vector(row):\n",
        "    \"\"\"\n",
        "    Given one row of the mapping CSV (task→employee assignments + penalty),\n",
        "    plus the original task & employee tables, construct the 110-dim vector.\n",
        "    \"\"\"\n",
        "    vector = []\n",
        "    for t in range(1, 11):\n",
        "        task_id = f\"T{t}\"\n",
        "        emp_id = row[task_id]\n",
        "\n",
        "        task = tasks[task_id]\n",
        "        emp = employees[emp_id]\n",
        "\n",
        "        task_features = [\n",
        "            task[\"estimated_time\"],\n",
        "            task[\"difficulty\"],\n",
        "            task[\"deadline\"],\n",
        "            task[\"skill_required\"]]\n",
        "\n",
        "        emp_features = [\n",
        "            emp[\"hours_avail\"],\n",
        "            emp[\"skill_level\"]\n",
        "        ] + one_hot_encode(emp[\"skills\"])\n",
        "\n",
        "        vector.extend(task_features + emp_features)\n",
        "    return np.array(vector)"
      ],
      "metadata": {
        "id": "grbsbbxLTBfC"
      },
      "execution_count": 3,
      "outputs": []
    },
    {
      "cell_type": "markdown",
      "source": [
        "## Model Definitions"
      ],
      "metadata": {
        "id": "yAAYSJx8j84Q"
      }
    },
    {
      "cell_type": "code",
      "source": [
        "class NeuralNetwork :\n",
        "  def __init__ (self , layer_dims , activation =(’relu’):\n",
        "  ...\n",
        "  def forward (self , x):\n",
        "  ...\n",
        "  def backward (self , x, y_true ):\n",
        "  ...\n",
        "  def update_params (self , lr):\n",
        "  ...\n",
        "\n",
        "  def sigmoid(z):\n",
        "      return 1 / (1 + np.exp(-z))\n",
        "\n",
        "  def sigmoid_derivative(a):\n",
        "      return a * (1 - a)\n",
        "\n",
        "  def relu(z):\n",
        "      return np.maximum(0, z)\n",
        "\n",
        "  def relu_derivative(z):\n",
        "      return (z > 0).astype(float)"
      ],
      "metadata": {
        "id": "IGucjLhqj_R5"
      },
      "execution_count": null,
      "outputs": []
    },
    {
      "cell_type": "markdown",
      "source": [
        "## Training Loop"
      ],
      "metadata": {
        "id": "QAWLQH0dkKkY"
      }
    },
    {
      "cell_type": "code",
      "source": [],
      "metadata": {
        "id": "_IVnzs7f6yED"
      },
      "execution_count": null,
      "outputs": []
    }
  ]
}