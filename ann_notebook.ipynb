{
 "cells": [
  {
   "cell_type": "markdown",
   "metadata": {
    "id": "J4kSpcuHFsO_"
   },
   "source": [
    "# Assignment 3: Predicting Mapping Penalties with ANN\n",
    "\n",
    "In this assignment, a feed-forward artificial neural network (ANN) is implemented from scratch to predict the penalty score of a mapping between tasks and employees.\n",
    "\n",
    "\n"
   ]
  },
  {
   "cell_type": "markdown",
   "metadata": {
    "id": "jL-LqT6-jIt_"
   },
   "source": [
    "## Assignment Imports"
   ]
  },
  {
   "cell_type": "code",
   "execution_count": null,
   "metadata": {
    "colab": {
     "base_uri": "https://localhost:8080/"
    },
    "executionInfo": {
     "elapsed": 114,
     "status": "ok",
     "timestamp": 1747998028850,
     "user": {
      "displayName": "Tony Liang",
      "userId": "12142000031462571595"
     },
     "user_tz": -480
    },
    "id": "P8Q4Pi2MTDB_",
    "outputId": "4829d1ad-7a5d-4dfd-85e9-9719ee7833b2"
   },
   "outputs": [
    {
     "name": "stdout",
     "output_type": "stream",
     "text": [
      "fatal: destination path 'ann' already exists and is not an empty directory.\n"
     ]
    }
   ],
   "source": [
    "import numpy as np\n",
    "import pandas as pd\n",
    "import matplotlib . pyplot as plt\n",
    "\n",
    "!git clone https://github.com/tonyzrl/ann.git\n",
    "\n",
    "# Task data: ID, Estimated Time, Difficulty, Deadline, Skill Required\n",
    "tasks = [{\"id\": \"T1\", \"estimated_time\": 4, \"difficulty\": 3, \"deadline\": 8, \"skill_required\": \"A\"},\n",
    "        {\"id\": \"T2\", \"estimated_time\": 6, \"difficulty\": 5, \"deadline\": 12, \"skill_required\": \"B\"},\n",
    "        {\"id\": \"T3\", \"estimated_time\": 2, \"difficulty\": 2, \"deadline\": 6, \"skill_required\": \"A\"},\n",
    "        {\"id\": \"T4\", \"estimated_time\": 5, \"difficulty\": 4, \"deadline\": 10, \"skill_required\": \"C\"},\n",
    "        {\"id\": \"T5\", \"estimated_time\": 3, \"difficulty\": 1, \"deadline\": 7, \"skill_required\": \"A\"},\n",
    "        {\"id\": \"T6\", \"estimated_time\": 8, \"difficulty\": 6, \"deadline\": 15, \"skill_required\": \"B\"},\n",
    "        {\"id\": \"T7\", \"estimated_time\": 4, \"difficulty\": 3, \"deadline\": 9, \"skill_required\": \"C\"},\n",
    "        {\"id\": \"T8\", \"estimated_time\": 7, \"difficulty\": 5, \"deadline\": 14, \"skill_required\": \"B\"},\n",
    "        {\"id\": \"T9\", \"estimated_time\": 2, \"difficulty\": 2, \"deadline\": 5, \"skill_required\": \"A\"},\n",
    "        {\"id\": \"T10\", \"estimated_time\": 6, \"difficulty\": 4, \"deadline\": 11, \"skill_required\": \"C\"},]\n",
    "\n",
    "# Employee data: ID, Available hours, Skill level, Skills\n",
    "employees = [{\"id\": \"E1\", \"hours_avail\": 10, \"skill_level\": 4, \"skills\": [\"A\", \"C\"]},\n",
    "            {\"id\": \"E2\", \"hours_avail\": 12, \"skill_level\": 6, \"skills\": [\"A\", \"B\", \"C\"]},\n",
    "            {\"id\": \"E3\", \"hours_avail\": 8, \"skill_level\": 3, \"skills\": [\"A\"]},\n",
    "            {\"id\": \"E4\", \"hours_avail\": 15, \"skill_level\": 7, \"skills\": [\"B\", \"C\"]},\n",
    "            {\"id\": \"E5\", \"hours_avail\": 9, \"skill_level\": 5, \"skills\": [\"A\", \"C\"]}]"
   ]
  },
  {
   "cell_type": "markdown",
   "metadata": {
    "id": "Zh32dB9-jXV7"
   },
   "source": [
    "## Data Generation and Loading"
   ]
  },
  {
   "cell_type": "code",
   "execution_count": null,
   "metadata": {
    "executionInfo": {
     "elapsed": 339,
     "status": "ok",
     "timestamp": 1747997952498,
     "user": {
      "displayName": "Tony Liang",
      "userId": "12142000031462571595"
     },
     "user_tz": -480
    },
    "id": "Y_ApwmQqjoVJ"
   },
   "outputs": [],
   "source": [
    "df = pd.read_csv('/content/drive/MyDrive/artificial_neural_network/data/task_assignment_data.csv')"
   ]
  },
  {
   "cell_type": "markdown",
   "metadata": {
    "id": "2gFkyybTjx8R"
   },
   "source": [
    "## Data Preprocessing"
   ]
  },
  {
   "cell_type": "markdown",
   "metadata": {
    "id": "NP3P7U1vzBJA"
   },
   "source": []
  },
  {
   "cell_type": "code",
   "execution_count": null,
   "metadata": {
    "id": "grbsbbxLTBfC"
   },
   "outputs": [],
   "source": [
    "def one_hot_encode(skills):\n",
    "    encoding = [0, 0, 0]\n",
    "    for s in skills:\n",
    "        if s == 'A':\n",
    "            encoding[0] = 1\n",
    "        elif s == 'B':\n",
    "            encoding[1] = 1\n",
    "        elif s == 'C':\n",
    "            encoding[2] = 1\n",
    "    return encoding\n",
    "\n",
    "def construct_input_vector(row):\n",
    "    vector = []\n",
    "    for t in range(1, 11):\n",
    "        task_id = f\"T{t}\"\n",
    "        emp_id = row[task_id]\n",
    "\n",
    "        task = tasks[task_id]\n",
    "        emp = employees[emp_id]\n",
    "\n",
    "        task_features = [\n",
    "            task[\"estimated_time\"],\n",
    "            task[\"difficulty\"],\n",
    "            task[\"deadline\"]\n",
    "        ] + one_hot_encode([task[\"skill_required\"]])\n",
    "\n",
    "        emp_features = [\n",
    "            emp[\"hours_avail\"],\n",
    "            emp[\"skill_level\"]\n",
    "        ] + one_hot_encode(emp[\"skills\"])\n",
    "\n",
    "        vector.extend(task_features + emp_features)\n",
    "\n",
    "    return np.array(vector).reshape(-1, 1)  # Shape: (110, 1)"
   ]
  },
  {
   "cell_type": "markdown",
   "metadata": {
    "id": "yAAYSJx8j84Q"
   },
   "source": [
    "## Model Definitions"
   ]
  },
  {
   "cell_type": "code",
   "execution_count": null,
   "metadata": {
    "id": "IGucjLhqj_R5"
   },
   "outputs": [],
   "source": [
    "class NeuralNetwork :\n",
    "  def __init__ (self , layer_dims , activation =’relu’):\n",
    "  ...\n",
    "  def forward (self , x):\n",
    "  ...\n",
    "  def backward (self , x, y_true ):\n",
    "  ...\n",
    "  def update_params (self , lr):\n",
    "  ..."
   ]
  },
  {
   "cell_type": "markdown",
   "metadata": {
    "id": "QAWLQH0dkKkY"
   },
   "source": [
    "## Training Loop"
   ]
  },
  {
   "cell_type": "code",
   "execution_count": null,
   "metadata": {
    "id": "3FCyu8EmkR0E"
   },
   "outputs": [],
   "source": []
  }
 ],
 "metadata": {
  "accelerator": "GPU",
  "colab": {
   "authorship_tag": "ABX9TyPJdk3NNpE+1Usds9iCa+h6",
   "gpuType": "T4",
   "mount_file_id": "1XHEo6ggKmUKrGsiFhSNbWPnIO5ywZueb",
   "provenance": []
  },
  "kernelspec": {
   "display_name": "Python 3",
   "name": "python3"
  },
  "language_info": {
   "name": "python"
  }
 },
 "nbformat": 4,
 "nbformat_minor": 0
}
