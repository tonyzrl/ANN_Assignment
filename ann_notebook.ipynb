{
  "nbformat": 4,
  "nbformat_minor": 0,
  "metadata": {
    "colab": {
      "provenance": [],
      "gpuType": "T4",
      "mount_file_id": "1XHEo6ggKmUKrGsiFhSNbWPnIO5ywZueb",
      "authorship_tag": "ABX9TyPN0NEouON8mL3IVxUQ2Q7t"
    },
    "kernelspec": {
      "name": "python3",
      "display_name": "Python 3"
    },
    "language_info": {
      "name": "python"
    },
    "accelerator": "GPU"
  },
  "cells": [
    {
      "cell_type": "markdown",
      "source": [
        "# Assignment 3: Predicting Mapping Penalties with ANN\n",
        "**Due:** June 5, 2025, 11:59 PM\n",
        "\n",
        "**Author:** Tony Liang\n",
        "\n",
        "**Student Number:** 20990204\n",
        "\n",
        "In this assignment, a feed-forward artificial neural network (ANN) is implemented from scratch to predict the penalty score of a mapping between tasks and employees.\n",
        "\n",
        "In this notebook we will:\n",
        "1. Generate or load the 100 mappings dataset  \n",
        "2. Preprocess & encode into 110-dim vectors  \n",
        "3. Define two ANN architectures (Model A & Model B)  \n",
        "4. Implement forward, backward, updates by hand  \n",
        "5. Train via mini-batch SGD over grid of hyperparameters  \n",
        "6. Produce the eight required comparison plots  \n",
        "7. Export results for report submission  \n",
        "\n"
      ],
      "metadata": {
        "id": "J4kSpcuHFsO_"
      }
    },
    {
      "cell_type": "markdown",
      "source": [
        "## Assignment Imports"
      ],
      "metadata": {
        "id": "jL-LqT6-jIt_"
      }
    },
    {
      "cell_type": "code",
      "source": [
        "import numpy as np\n",
        "import pandas as pd\n",
        "import matplotlib . pyplot as plt\n",
        "import time\n",
        "\n",
        "!git clone https://github.com/tonyzrl/ANN_Assignment\n",
        "\n",
        "# Task data: ID, Estimated Time, Difficulty, Deadline, Skill Required\n",
        "tasks = [{\"id\": \"T1\", \"estimated_time\": 4, \"difficulty\": 3, \"deadline\": 8, \"skill_required\": \"A\"},\n",
        "        {\"id\": \"T2\", \"estimated_time\": 6, \"difficulty\": 5, \"deadline\": 12, \"skill_required\": \"B\"},\n",
        "        {\"id\": \"T3\", \"estimated_time\": 2, \"difficulty\": 2, \"deadline\": 6, \"skill_required\": \"A\"},\n",
        "        {\"id\": \"T4\", \"estimated_time\": 5, \"difficulty\": 4, \"deadline\": 10, \"skill_required\": \"C\"},\n",
        "        {\"id\": \"T5\", \"estimated_time\": 3, \"difficulty\": 1, \"deadline\": 7, \"skill_required\": \"A\"},\n",
        "        {\"id\": \"T6\", \"estimated_time\": 8, \"difficulty\": 6, \"deadline\": 15, \"skill_required\": \"B\"},\n",
        "        {\"id\": \"T7\", \"estimated_time\": 4, \"difficulty\": 3, \"deadline\": 9, \"skill_required\": \"C\"},\n",
        "        {\"id\": \"T8\", \"estimated_time\": 7, \"difficulty\": 5, \"deadline\": 14, \"skill_required\": \"B\"},\n",
        "        {\"id\": \"T9\", \"estimated_time\": 2, \"difficulty\": 2, \"deadline\": 5, \"skill_required\": \"A\"},\n",
        "        {\"id\": \"T10\", \"estimated_time\": 6, \"difficulty\": 4, \"deadline\": 11, \"skill_required\": \"C\"},]\n",
        "\n",
        "# Employee data: ID, Available hours, Skill level, Skills\n",
        "employees = [{\"id\": \"E1\", \"hours_avail\": 10, \"skill_level\": 4, \"skills\": [\"A\", \"C\"]},\n",
        "            {\"id\": \"E2\", \"hours_avail\": 12, \"skill_level\": 6, \"skills\": [\"A\", \"B\", \"C\"]},\n",
        "            {\"id\": \"E3\", \"hours_avail\": 8, \"skill_level\": 3, \"skills\": [\"A\"]},\n",
        "            {\"id\": \"E4\", \"hours_avail\": 15, \"skill_level\": 7, \"skills\": [\"B\", \"C\"]},\n",
        "            {\"id\": \"E5\", \"hours_avail\": 9, \"skill_level\": 5, \"skills\": [\"A\", \"C\"]}]"
      ],
      "metadata": {
        "colab": {
          "base_uri": "https://localhost:8080/"
        },
        "id": "P8Q4Pi2MTDB_",
        "outputId": "c45bb15e-88a2-4222-e40a-d4e4282cc052"
      },
      "execution_count": 74,
      "outputs": [
        {
          "output_type": "stream",
          "name": "stdout",
          "text": [
            "fatal: destination path 'ANN_Assignment' already exists and is not an empty directory.\n"
          ]
        }
      ]
    },
    {
      "cell_type": "markdown",
      "source": [
        "## Data Generation and Loading"
      ],
      "metadata": {
        "id": "Zh32dB9-jXV7"
      }
    },
    {
      "cell_type": "code",
      "source": [
        "df = pd.read_csv('/content/ANN_Assignment/data/task_assignment_data.csv')"
      ],
      "metadata": {
        "id": "Y_ApwmQqjoVJ"
      },
      "execution_count": 75,
      "outputs": []
    },
    {
      "cell_type": "markdown",
      "source": [
        "## Data Preprocessing"
      ],
      "metadata": {
        "id": "2gFkyybTjx8R"
      }
    },
    {
      "cell_type": "code",
      "source": [
        "def one_hot_encode(skills):\n",
        "    \"\"\"\n",
        "    One-hot encode a list of skills, e.g. ['A','C'] -> [1,0,1].\n",
        "    \"\"\"\n",
        "    mapping = {'A': 0, 'B': 1, 'C': 2}\n",
        "    vec = [0, 0, 0]\n",
        "    for s in skills:\n",
        "        vec[mapping[s]] = 1\n",
        "    return vec\n",
        "\n",
        "def construct_input_vector(mapping_row):\n",
        "    \"\"\"\n",
        "    Given one row of the mapping CSV (task→employee assignments + penalty),\n",
        "    plus the list of task & employee, construct the 110-dim vector.\n",
        "    \"\"\"\n",
        "    vector = []\n",
        "    # First 10 entries are employee assignments; last entry is penalty\n",
        "    assignments = mapping_row[:10]\n",
        "\n",
        "    for idx, emp_id in enumerate(assignments, start=1):\n",
        "        task_id = f\"T{idx}\"\n",
        "        # Find the task dict\n",
        "        task = next(t for t in tasks if t[\"id\"] == task_id)\n",
        "        # Find the employee dict\n",
        "        emp = next(e for e in employees if e[\"id\"] == emp_id)\n",
        "\n",
        "        # Task features: [time, difficulty, deadline] + one-hot(required skill)\n",
        "        task_features = [\n",
        "            task[\"estimated_time\"],\n",
        "            task[\"difficulty\"],\n",
        "            task[\"deadline\"]\n",
        "        ] + one_hot_encode(task[\"skill_required\"])\n",
        "\n",
        "        # Employee features: [hours_avail, skill_level] + one-hot(skills)\n",
        "        emp_features = [\n",
        "            emp[\"hours_avail\"],\n",
        "            emp[\"skill_level\"],\n",
        "        ] + one_hot_encode(emp[\"skills\"])\n",
        "\n",
        "        vector.extend(task_features + emp_features)\n",
        "\n",
        "    return np.array(vector)"
      ],
      "metadata": {
        "id": "grbsbbxLTBfC"
      },
      "execution_count": 76,
      "outputs": []
    },
    {
      "cell_type": "code",
      "source": [
        "vector = [\"E2\",\"E3\",\"E3\",\"E2\",\"E2\",\"E2\",\"E1\",\"E5\",\"E1\",\"E5\",4.6000000000000005]\n",
        "input = construct_input_vector(vector)\n",
        "print(input)\n",
        "print(input.shape)"
      ],
      "metadata": {
        "colab": {
          "base_uri": "https://localhost:8080/"
        },
        "id": "OV8AOG0ArspN",
        "outputId": "545f9281-6d16-44fe-a5a3-80b4ef8aeeb1"
      },
      "execution_count": 81,
      "outputs": [
        {
          "output_type": "stream",
          "name": "stdout",
          "text": [
            "[ 4  3  8  1  0  0 12  6  1  1  1  6  5 12  0  1  0  8  3  1  0  0  2  2\n",
            "  6  1  0  0  8  3  1  0  0  5  4 10  0  0  1 12  6  1  1  1  3  1  7  1\n",
            "  0  0 12  6  1  1  1  8  6 15  0  1  0 12  6  1  1  1  4  3  9  0  0  1\n",
            " 10  4  1  0  1  7  5 14  0  1  0  9  5  1  0  1  2  2  5  1  0  0 10  4\n",
            "  1  0  1  6  4 11  0  0  1  9  5  1  0  1]\n",
            "(110,)\n"
          ]
        }
      ]
    },
    {
      "cell_type": "markdown",
      "source": [
        "## Activation Functions"
      ],
      "metadata": {
        "id": "D3wuDaBFo4zW"
      }
    },
    {
      "cell_type": "code",
      "source": [
        "def sigmoid(z):\n",
        "    return 1 / (1 + np.exp(-z))\n",
        "\n",
        "def sigmoid_derivative(a):\n",
        "    return a * (1 - a)\n",
        "\n",
        "def relu(z):\n",
        "    return np.maximum(0, z)\n",
        "\n",
        "def relu_derivative(z):\n",
        "    return (z > 0).astype(float)"
      ],
      "metadata": {
        "id": "mjbDT4Bvo3_y"
      },
      "execution_count": 78,
      "outputs": []
    },
    {
      "cell_type": "markdown",
      "source": [
        "## Model A Definitions"
      ],
      "metadata": {
        "id": "yAAYSJx8j84Q"
      }
    },
    {
      "cell_type": "code",
      "source": [
        "class NeuralNetworkA :\n",
        "  def __init__ (self , layer_dims , activation =(\"relu\")):\n",
        "  ...\n",
        "  def forward (self , x):\n",
        "  ...\n",
        "  def backward (self , x, y_true ):\n",
        "  ...\n",
        "  def update_params (self , lr):\n",
        "  ...\n"
      ],
      "metadata": {
        "id": "IGucjLhqj_R5",
        "colab": {
          "base_uri": "https://localhost:8080/",
          "height": 126
        },
        "outputId": "7c99aebb-f7e6-4f98-f796-4e28f6bb4533"
      },
      "execution_count": 79,
      "outputs": [
        {
          "output_type": "error",
          "ename": "IndentationError",
          "evalue": "expected an indented block after function definition on line 2 (<ipython-input-79-10859be4ac2b>, line 3)",
          "traceback": [
            "\u001b[0;36m  File \u001b[0;32m\"<ipython-input-79-10859be4ac2b>\"\u001b[0;36m, line \u001b[0;32m3\u001b[0m\n\u001b[0;31m    ...\u001b[0m\n\u001b[0m    ^\u001b[0m\n\u001b[0;31mIndentationError\u001b[0m\u001b[0;31m:\u001b[0m expected an indented block after function definition on line 2\n"
          ]
        }
      ]
    },
    {
      "cell_type": "markdown",
      "source": [
        "## Model B Definitions\n"
      ],
      "metadata": {
        "id": "9mXjb4GHovv6"
      }
    },
    {
      "cell_type": "code",
      "source": [
        "class NeuralNetworkB :\n",
        "  def __init__ (self , layer_dims , activation =(\"relu\")):\n",
        "  ...\n",
        "  def forward (self , x):\n",
        "  ...\n",
        "  def backward (self , x, y_true ):\n",
        "  ...\n",
        "  def update_params (self , lr):\n",
        "  ...\n"
      ],
      "metadata": {
        "id": "19M6nDkJo_c3"
      },
      "execution_count": null,
      "outputs": []
    },
    {
      "cell_type": "markdown",
      "source": [
        "## Training Loop"
      ],
      "metadata": {
        "id": "QAWLQH0dkKkY"
      }
    },
    {
      "cell_type": "code",
      "source": [],
      "metadata": {
        "id": "_IVnzs7f6yED"
      },
      "execution_count": null,
      "outputs": []
    }
  ]
}